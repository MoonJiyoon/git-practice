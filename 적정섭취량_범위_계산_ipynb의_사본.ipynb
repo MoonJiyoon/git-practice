{
  "nbformat": 4,
  "nbformat_minor": 0,
  "metadata": {
    "colab": {
      "name": "적정섭취량 범위 계산.ipynb의 사본",
      "provenance": [],
      "collapsed_sections": [],
      "include_colab_link": true
    },
    "kernelspec": {
      "name": "python3",
      "display_name": "Python 3"
    },
    "language_info": {
      "name": "python"
    }
  },
  "cells": [
    {
      "cell_type": "markdown",
      "metadata": {
        "id": "view-in-github",
        "colab_type": "text"
      },
      "source": [
        "<a href=\"https://colab.research.google.com/github/MoonJiyoon/git-practice/blob/master/%EC%A0%81%EC%A0%95%EC%84%AD%EC%B7%A8%EB%9F%89_%EB%B2%94%EC%9C%84_%EA%B3%84%EC%82%B0_ipynb%EC%9D%98_%EC%82%AC%EB%B3%B8.ipynb\" target=\"_parent\"><img src=\"https://colab.research.google.com/assets/colab-badge.svg\" alt=\"Open In Colab\"/></a>"
      ]
    },
    {
      "cell_type": "code",
      "metadata": {
        "id": "ppT-N2DulhaC"
      },
      "source": [
        " \"\"\" 에너지필요추정량 EER(Kcal) 산출 \"\"\"\n",
        "from datetime import datetime\n",
        "from dateutil.relativedelta import relativedelta\n",
        "\n",
        "a=0# 상수\n",
        "b=0# 연령 계수\n",
        "c=0# 체중 계수\n",
        "d=0# 신장 계수\n",
        "PA=0#신체활동단계별 계수\n",
        "\n",
        "\n",
        "def calculate_EER(birth, activity, weight, height, sex):\n",
        "  \"\"\" 성별에 따른 상수 결정 \"\"\"\n",
        "  birth=datetime.strptime(birth,'%Y-%m-%d')\n",
        "  today=datetime.now()\n",
        "  age_month,age_day=0,0\n",
        "\n",
        "  if birth.day <= today.day:\n",
        "    age_day=today.day-birth.day\n",
        "  else:\n",
        "    age_day=(today.replace(day=1)-relativedelta(days=1)).day+today.day-birth.day\n",
        "    today-=relativedelta(months=1)\n",
        "\n",
        "  if birth.month<=today.month:\n",
        "    age_month=today.month-birth.month\n",
        "  else:\n",
        "    age_month=12+today.month-birth.month\n",
        "    today-=relativedelta(years=1)\n",
        "    \n",
        "  age=today.year-birth.year\n",
        "\n",
        "  if sex==\"F\":\n",
        "    a = 354 \n",
        "    b = -6.91\n",
        "    c = 9.36\n",
        "    d = 726 \n",
        "    \"\"\" 활동 수준에 따른 신체활동단계별 계수 결정\"\"\"\n",
        "    if activity == '비활동적':\n",
        "      PA = 1\n",
        "    elif activity == '저활동적':\n",
        "      PA = 1.12\n",
        "    elif activity == '활동적':\n",
        "      PA = 1.27\n",
        "    else:\n",
        "      PA = 1.45\n",
        "\n",
        "  else:\n",
        "    a = 662\n",
        "    b = -9.53\n",
        "    c = 15.91\n",
        "    d = 539.6\n",
        "    \"\"\" 활동 수준에 따른 신체활동단계별 계수 결정\"\"\"\n",
        "    if activity == '비활동적':\n",
        "      PA = 1\n",
        "    elif activity == '저활동적':\n",
        "      PA = 1.11\n",
        "    elif activity == '활동적':\n",
        "      PA = 1.25\n",
        "    else:\n",
        "      PA = 1.48\n",
        "\n",
        "  if height>100:\n",
        "    height=height/100\n",
        "  EER = a + b*age + PA*(c*weight + d*height)\n",
        "  return EER"
      ],
      "execution_count": 24,
      "outputs": []
    },
    {
      "cell_type": "code",
      "metadata": {
        "id": "Bafrwx8YsY9r"
      },
      "source": [
        "\"\"\" 에너지 필요 추정량에 따른 탄단지 적정량 min max 결과 산출 \"\"\"\n",
        "import pandas as pd\n",
        "\n",
        "def calculate_user_nut(EER):\n",
        "  EER = float(EER)\n",
        "  energy_ratio = pd.DataFrame(\n",
        "    {\n",
        "        'nutrition':['car', 'pro', 'fat'],\n",
        "        'min':[0.55, 0.07, 0.15],\n",
        "        'max':[0.65,0.2, 0.3]\n",
        "    }\n",
        ")\n",
        "  car_min = energy_ratio.iloc[0]['min'] * EER /4\n",
        "  car_max = energy_ratio.iloc[0]['max'] * EER /4\n",
        "\n",
        "  pro_min = energy_ratio.iloc[1]['min'] * EER /4\n",
        "  pro_max = energy_ratio.iloc[1]['max'] * EER /4\n",
        "\n",
        "  fat_min = energy_ratio.iloc[2]['min'] * EER/9\n",
        "  fat_max = energy_ratio.iloc[2]['max'] * EER/9\n",
        "\n",
        "  user_nut_df = pd.DataFrame({\n",
        "      'nutrition':['car', 'pro', 'fat', 'na'],\n",
        "      'min(g)':[car_min, pro_min, fat_min, 0],\n",
        "      'max(g)':[car_max, pro_max, fat_max, 2.3]\n",
        "  })\n",
        "\n",
        "  return user_nut_df"
      ],
      "execution_count": 25,
      "outputs": []
    },
    {
      "cell_type": "markdown",
      "metadata": {
        "id": "u1e8fH7ansWK"
      },
      "source": [
        "# test"
      ]
    },
    {
      "cell_type": "code",
      "metadata": {
        "id": "9ZSh-93yt5Pm",
        "colab": {
          "base_uri": "https://localhost:8080/"
        },
        "outputId": "d62cfdc4-3b63-4e59-c56c-83c9eb7c54b0"
      },
      "source": [
        "#test\n",
        "birth='2000-10-03'\n",
        "birth=datetime.strptime(birth,'%Y-%m-%d')\n",
        "today=datetime.now()\n",
        "age_month,age_day=0,0\n",
        "\n",
        "if birth.day <= today.day:\n",
        "  age_day=today.day-birth.day\n",
        "else:\n",
        "  age_day=(today.replace(day=1)-relativedelta(days=1)).day+today.day-birth.day\n",
        "  today-=relativedelta(months=1)\n",
        "\n",
        "if birth.month<=today.month:\n",
        "  age_month=today.month-birth.month\n",
        "else:\n",
        "  age_month=12+today.month-birth.month\n",
        "  today-=relativedelta(years=1)\n",
        "  \n",
        "age=today.year-birth.year\n",
        "\n",
        "print(age)"
      ],
      "execution_count": 22,
      "outputs": [
        {
          "output_type": "stream",
          "text": [
            "20\n"
          ],
          "name": "stdout"
        }
      ]
    },
    {
      "cell_type": "code",
      "metadata": {
        "id": "chQAxPBkxI8m"
      },
      "source": [
        "calculate_user_nut(2000) #ex"
      ],
      "execution_count": null,
      "outputs": []
    },
    {
      "cell_type": "code",
      "metadata": {
        "id": "JYCtH-f6y_lC",
        "colab": {
          "base_uri": "https://localhost:8080/"
        },
        "outputId": "c6819544-2c93-4cb8-9329-448bb7517bc8"
      },
      "source": [
        "kim=calculate_EER(20,\"활동적\",51,1.65,\"F\") #age, activity, weight, height, sex\n",
        "kim\n"
      ],
      "execution_count": 23,
      "outputs": [
        {
          "output_type": "execute_result",
          "data": {
            "text/plain": [
              "2343.3802"
            ]
          },
          "metadata": {},
          "execution_count": 23
        }
      ]
    },
    {
      "cell_type": "code",
      "metadata": {
        "colab": {
          "base_uri": "https://localhost:8080/"
        },
        "id": "XOrN3krgncuI",
        "outputId": "0d640fc8-fd70-4819-82b3-98232edbfabd"
      },
      "source": [
        "lala=calculate_EER('2000-10-03',\"활동적\",51,1.65,\"F\") #age, activity, weight, height, sex\n",
        "lala"
      ],
      "execution_count": 26,
      "outputs": [
        {
          "output_type": "execute_result",
          "data": {
            "text/plain": [
              "2343.3802"
            ]
          },
          "metadata": {},
          "execution_count": 26
        }
      ]
    },
    {
      "cell_type": "code",
      "metadata": {
        "id": "qsFzNgehk6qJ"
      },
      "source": [
        "calculate_user_nut(kim)"
      ],
      "execution_count": null,
      "outputs": []
    },
    {
      "cell_type": "code",
      "metadata": {
        "id": "U6_2WfQ_lq74"
      },
      "source": [
        "365/100"
      ],
      "execution_count": null,
      "outputs": []
    }
  ]
}